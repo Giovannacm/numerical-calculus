{
 "cells": [
  {
   "cell_type": "code",
   "execution_count": 1,
   "metadata": {},
   "outputs": [],
   "source": [
    "import numpy as np\n",
    "import matplotlib.pyplot as plt\n",
    "\n",
    "%matplotlib inline"
   ]
  },
  {
   "cell_type": "code",
   "execution_count": 35,
   "metadata": {},
   "outputs": [],
   "source": [
    "def rk2(f, a, b, y0, n):\n",
    "    h = (b-a)/n\n",
    "    y = np.zeros((n+1, len(y0)))\n",
    "    \n",
    "    y[0] = y0\n",
    "    \n",
    "    for i in range(n):\n",
    "        xi = a + i*h\n",
    "        k1 = f(xi, y[i])\n",
    "        k2 = f(xi + h, y[i] + h*k1) #melhorado\n",
    "        y[i+1] = y[i] + h/2 * (k1 + k2)\n",
    "        \n",
    "    return y"
   ]
  },
  {
   "cell_type": "code",
   "execution_count": 36,
   "metadata": {},
   "outputs": [],
   "source": [
    "def rk4(f, a, b, y0, n):\n",
    "    h = (b-a)/n\n",
    "    y = np.zeros((n+1, len(y0)))\n",
    "    \n",
    "    y[0] = y0\n",
    "    \n",
    "    for i in range(n):\n",
    "        xi = a + i*h\n",
    "        k1 = f(xi, y[i])\n",
    "        k2 = f(xi + h/2, y[i] + h/2 * k1)\n",
    "        k3 = f(xi + h/2, y[i] + h/2 * k2)\n",
    "        k4 = f(xi + h, y[i] + h * k3)\n",
    "        y[i+1] = y[i] + h/6 * (k1 + 2*(k2+k3) + k4)\n",
    "        \n",
    "    return y"
   ]
  },
  {
   "cell_type": "code",
   "execution_count": 37,
   "metadata": {},
   "outputs": [],
   "source": [
    "def euler_ex(f, a, b, y0, n):\n",
    "    h = (b-a)/n\n",
    "    y = np.zeros((n+1, len(y0))) #n sub-espaços -> (linha) n+1 soluções (vetor para armazenar as soluções) para cada equação (coluna)\n",
    "    \n",
    "    y[0] = y0\n",
    "    \n",
    "    for i in range(n):\n",
    "        xi = a + h*i\n",
    "        y[i+1] = y[i] + h * f(xi, y[i])\n",
    "        \n",
    "    return y"
   ]
  },
  {
   "cell_type": "code",
   "execution_count": 27,
   "metadata": {},
   "outputs": [],
   "source": [
    "def f(x, y):\n",
    "    return np.array([y[1], y[0] + np.exp(x)])"
   ]
  },
  {
   "cell_type": "code",
   "execution_count": 38,
   "metadata": {},
   "outputs": [
    {
     "name": "stdout",
     "output_type": "stream",
     "text": [
      "[[1.         0.        ]\n",
      " [1.         0.2       ]\n",
      " [1.02       0.41051709]]\n",
      "[[1.         0.        ]\n",
      " [1.01       0.20525855]\n",
      " [1.04110171 0.42361352]]\n",
      "[[1.         0.        ]\n",
      " [1.01017924 0.20550853]\n",
      " [1.04153878 0.42414397]]\n"
     ]
    }
   ],
   "source": [
    "n = 2\n",
    "a = 0\n",
    "b = 0.2\n",
    "y0 = np.array([1, 0])\n",
    "\n",
    "y = euler_ex(f, a, b, y0, n)\n",
    "y2 = rk2(f, a, b, y0, n)\n",
    "y4 = rk4(f, a, b, y0, n)\n",
    "\n",
    "print(y)\n",
    "print(y2)\n",
    "print(y4)"
   ]
  }
 ],
 "metadata": {
  "kernelspec": {
   "display_name": "Python 3",
   "language": "python",
   "name": "python3"
  },
  "language_info": {
   "codemirror_mode": {
    "name": "ipython",
    "version": 3
   },
   "file_extension": ".py",
   "mimetype": "text/x-python",
   "name": "python",
   "nbconvert_exporter": "python",
   "pygments_lexer": "ipython3",
   "version": "3.7.3"
  }
 },
 "nbformat": 4,
 "nbformat_minor": 2
}
