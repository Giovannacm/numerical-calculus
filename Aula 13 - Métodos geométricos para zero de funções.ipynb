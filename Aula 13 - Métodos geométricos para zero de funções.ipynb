{
 "cells": [
  {
   "cell_type": "code",
   "execution_count": 1,
   "metadata": {},
   "outputs": [],
   "source": [
    "import numpy as np"
   ]
  },
  {
   "cell_type": "code",
   "execution_count": 3,
   "metadata": {},
   "outputs": [],
   "source": [
    "def bissec(f, a, b, tol = 1e-3, maxIt = 50):\n",
    "    fa = f(a)\n",
    "    fb = f(b)\n",
    "    \n",
    "    if(np.abs(fa) <= tol):\n",
    "        return a, 0\n",
    "    if(np.abs(fb) <= tol):\n",
    "        return b, 0\n",
    "    if(fa*fb > 0):\n",
    "        print(\"Intervalo é inválido\")\n",
    "        return 0, -1\n",
    "    \n",
    "    for it in range(maxIt):\n",
    "        x = (a + b)/2\n",
    "        fx = f(x)\n",
    "        \n",
    "        if(np.abs(fx) <= tol):\n",
    "            return x, it+1\n",
    "        \n",
    "        if(fa*fx < 0):\n",
    "            b = x\n",
    "            fb = fx\n",
    "        else: #fb*fx < 0\n",
    "            a = x\n",
    "            fa = fx\n",
    "    \n",
    "    print(\"O método não convergiu nas iterações, ou seja, não atingiu a tolerância\")\n",
    "    return x, maxIt"
   ]
  },
  {
   "cell_type": "code",
   "execution_count": 6,
   "metadata": {},
   "outputs": [
    {
     "name": "stdout",
     "output_type": "stream",
     "text": [
      "0.739378739760879 0.0004914153002637534 9\n",
      "0.7390851262506977 -1.1655808984656346e-08 18\n"
     ]
    }
   ],
   "source": [
    "f = lambda x: x - np.cos(x)\n",
    "a = 0\n",
    "b = np.pi/2\n",
    "\n",
    "x, it = bissec(f, a, b)\n",
    "x1, it1 = bissec(f, a, b, tol = 1e-5)\n",
    "\n",
    "print(x, f(x), it)\n",
    "print(x1, f(x1), it1)"
   ]
  },
  {
   "cell_type": "code",
   "execution_count": 7,
   "metadata": {},
   "outputs": [],
   "source": [
    "def metNewt(f, df, x0, tol = 1e-3, maxIt = 50):\n",
    "    for it in range(maxIt):\n",
    "        fx = f(x0)\n",
    "        if(np.abs(fx) <= tol):\n",
    "            return x0, it\n",
    "        \n",
    "        if(df(x0) == 0):\n",
    "            print(\"A derivada zerou\")\n",
    "            return x, it\n",
    "        x0 = x0 - f(x0)/df(x0)\n",
    "    \n",
    "    print(\"O método não atingiu a tolerância!\")\n",
    "    return x0, maxIt"
   ]
  },
  {
   "cell_type": "code",
   "execution_count": 8,
   "metadata": {},
   "outputs": [
    {
     "name": "stdout",
     "output_type": "stream",
     "text": [
      "0.7391128909113617 4.6455898990771516e-05 3\n",
      "0.739085133385284 2.847205804457076e-10 4\n"
     ]
    }
   ],
   "source": [
    "df = lambda x: 1 + np.sin(x)\n",
    "\n",
    "x, it = metNewt(f, df, 0, tol = 1e-3)\n",
    "x1, it1 = metNewt(f, df, 0, tol = 1e-5, maxIt = 50)\n",
    "\n",
    "print(x, f(x), it)\n",
    "print(x1, f(x1), it1)"
   ]
  },
  {
   "cell_type": "code",
   "execution_count": 9,
   "metadata": {},
   "outputs": [],
   "source": [
    "#Observa-se que, no método de newton o número de iterações é menor que o outro.\n",
    "#O método da bissecção é mais garantido.\n",
    "#O método de newton precisa saber a derivada, porém é mais rápido. Mas não garante a convergência."
   ]
  }
 ],
 "metadata": {
  "kernelspec": {
   "display_name": "Python 3",
   "language": "python",
   "name": "python3"
  },
  "language_info": {
   "codemirror_mode": {
    "name": "ipython",
    "version": 3
   },
   "file_extension": ".py",
   "mimetype": "text/x-python",
   "name": "python",
   "nbconvert_exporter": "python",
   "pygments_lexer": "ipython3",
   "version": "3.7.3"
  }
 },
 "nbformat": 4,
 "nbformat_minor": 2
}
