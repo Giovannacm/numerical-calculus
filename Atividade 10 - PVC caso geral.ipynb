{
 "cells": [
  {
   "cell_type": "code",
   "execution_count": 1,
   "metadata": {},
   "outputs": [],
   "source": [
    "import numpy as np\n",
    "import matplotlib.pyplot as plt\n",
    "\n",
    "%matplotlib inline"
   ]
  },
  {
   "cell_type": "markdown",
   "metadata": {},
   "source": [
    "# 1. Considere o seguinte PVC\n",
    "## x²y''(x) + xy'(x) − 4y(x) = 20x³, 1 < x < 2,\n",
    "### y(1) = 0\n",
    "### y(2) = 31"
   ]
  },
  {
   "cell_type": "code",
   "execution_count": 2,
   "metadata": {},
   "outputs": [],
   "source": [
    "def PVF1(a, b, alpha, beta, p, q, f, h): \n",
    "    #Discretizando o intervalo (nesse caso, usando a e b)\n",
    "    x = np.linspace(a, b, n+2)\n",
    "    xi = x[1:-1]\n",
    "    h2 = h**2\n",
    "    \n",
    "    #Cria matriz\n",
    "    ai = -2 * np.ones((n,)) + h2 * q(xi) \n",
    "    bi = np.ones((n,)) - h/2 * p(xi)\n",
    "    ci = np.ones((n,)) + h/2 * p(xi)\n",
    "    A = np.diag(ai) + np.diag(bi[1:], -1) + np.diag(ci[:-1], 1)\n",
    "    \n",
    "    F = h2 * np.ones((n,)) * f(xi)\n",
    "    F[0] -= alpha * bi[0]\n",
    "    F[-1] -= beta * ci[-1]\n",
    "    \n",
    "    y = np.zeros((n+2,))\n",
    "    y[0] = alpha\n",
    "    y[-1] = beta\n",
    "    \n",
    "    #Montando e resolvendo o sistema linear\n",
    "    y[1:-1] = np.linalg.solve(A, F)\n",
    "    return y, x"
   ]
  },
  {
   "cell_type": "code",
   "execution_count": 3,
   "metadata": {},
   "outputs": [],
   "source": [
    "a = 1\n",
    "b = 2\n",
    "alpha = 0\n",
    "beta = 31\n",
    "p = lambda x: 1/x\n",
    "q = lambda x: -4/x**2\n",
    "f = lambda x: 20*x\n",
    "exata = lambda x: 4*(x**3 - 1/x**2)"
   ]
  },
  {
   "cell_type": "markdown",
   "metadata": {},
   "source": [
    "## • (Prático) Construa um gráfico com a solução exata e a numérica para m = 3."
   ]
  },
  {
   "cell_type": "code",
   "execution_count": 4,
   "metadata": {},
   "outputs": [
    {
     "name": "stdout",
     "output_type": "stream",
     "text": [
      "h = 0.16666666666666666\n"
     ]
    },
    {
     "data": {
      "image/png": "[encoded data removed]",
      "text/plain": [
       "<Figure size 432x288 with 1 Axes>"
      ]
     },
     "metadata": {
      "needs_background": "light"
     },
     "output_type": "display_data"
    }
   ],
   "source": [
    "m = 3 #numero de incógnitas\n",
    "n = m + 2 #numero de pontos\n",
    "N = n + 1 #numero de sub espaços\n",
    "h = (b-a)/N #tamanho do espaçamento\n",
    "\n",
    "y, x = PVF1(a, b, alpha, beta, p, q, f, h)\n",
    "\n",
    "plt.plot(x, y, label = 'numérica (m = 3)')\n",
    "plt.plot(x, exata(x), '--', label = 'exata')\n",
    "plt.legend()\n",
    "print('h =', h)"
   ]
  },
  {
   "cell_type": "markdown",
   "metadata": {},
   "source": [
    "## O que você observou? \n",
    "### R: No tópico anterior (teórico), foi visto que, se h < 2, o método de diferenças finitas tem uma única solução. Isso implica na estabilidade do método, e nesse caso (m=3), como h = 0.1667 < 2, vemos que, ao plotar a solução numérica, ela fica sobreposta à exata, ou seja, se aproxima muito dela, apresentando um erro muito baixo."
   ]
  },
  {
   "cell_type": "markdown",
   "metadata": {},
   "source": [
    "## • (Prático) Construa um gráfico, usando escala log-log, o máximo do erro (entre a solução exata e a numérica) como função do m, variando m = 3, 6, 12, 24, 48."
   ]
  },
  {
   "cell_type": "code",
   "execution_count": 5,
   "metadata": {},
   "outputs": [
    {
     "name": "stdout",
     "output_type": "stream",
     "text": [
      "(m = 3) h = 0.16666666666666666\n",
      "(m = 6) h = 0.1111111111111111\n",
      "(m = 12) h = 0.06666666666666667\n",
      "(m = 24) h = 0.037037037037037035\n",
      "(m = 48) h = 0.0196078431372549\n"
     ]
    },
    {
     "data": {
      "image/png": "[encoded data removed]",
      "text/plain": [
       "<Figure size 432x288 with 1 Axes>"
      ]
     },
     "metadata": {
      "needs_background": "light"
     },
     "output_type": "display_data"
    }
   ],
   "source": [
    "m = 3\n",
    "n = m + 2\n",
    "N = n + 1\n",
    "h = (b-a)/N\n",
    "y, x = PVF1(a, b, alpha, beta, p, q, f, h)\n",
    "merr3 = max(np.abs(exata(x)-y))\n",
    "print('(m = 3) h =', h)\n",
    "\n",
    "m = 6\n",
    "n = m + 2\n",
    "N = n + 1\n",
    "h = (b-a)/N\n",
    "y, x = PVF1(a, b, alpha, beta, p, q, f, h)\n",
    "merr6 = max(np.abs(exata(x)-y))\n",
    "print('(m = 6) h =', h)\n",
    "\n",
    "m = 12\n",
    "n = m + 2\n",
    "N = n + 1\n",
    "h = (b-a)/N\n",
    "y, x = PVF1(a, b, alpha, beta, p, q, f, h)\n",
    "merr12 = max(np.abs(exata(x)-y))\n",
    "print('(m = 12) h =', h)\n",
    "\n",
    "m = 24\n",
    "n = m + 2\n",
    "N = n + 1\n",
    "h = (b-a)/N\n",
    "y, x = PVF1(a, b, alpha, beta, p, q, f, h)\n",
    "merr24 = max(np.abs(exata(x)-y))\n",
    "print('(m = 24) h =', h)\n",
    "\n",
    "m = 48\n",
    "n = m + 2\n",
    "N = n + 1\n",
    "h = (b-a)/N\n",
    "y, x = PVF1(a, b, alpha, beta, p, q, f, h)\n",
    "merr48 = max(np.abs(exata(x)-y))\n",
    "print('(m = 48) h =', h)\n",
    "\n",
    "plt.plot([3, 6, 12, 24, 48], [merr3, merr6, merr12, merr24, merr48], 'o-')\n",
    "plt.xlabel('m')\n",
    "plt.ylabel('max(abs(erro))')\n",
    "#plt.yscale('log')\n",
    "#plt.xscale('log')\n",
    "plt.grid()"
   ]
  },
  {
   "cell_type": "markdown",
   "metadata": {},
   "source": [
    "## Explique seus resultados.\n",
    "### R: Observa-se que, quando aumentamos m, ou seja, diminuímos o h, o máximo do erro diminui. Isso está relacionado com a consistência do método, uma vez que quando h -> 0,  erro de trucamento local -> 0, dessa forma, o máximo do erro também -> 0. Além disso, esse comportamento está relacionado ao comportamento da solução numérica se manter estável, uma vez que h < 2 para os valores dados de m."
   ]
  },
  {
   "cell_type": "markdown",
   "metadata": {},
   "source": [
    "# ------------------------------------------\n",
    "# 2. Considere o seguinte PVC com condição de contorno de Neumann\n",
    "## y''(x) = 2, 0 < x < 1,\n",
    "### y'(0) = 3\n",
    "### y(1) = 6"
   ]
  },
  {
   "cell_type": "code",
   "execution_count": 6,
   "metadata": {},
   "outputs": [],
   "source": [
    "def PVF2(l, del0, beta, f, h):\n",
    "    n = int((l/h) - 1)\n",
    "    \n",
    "    #Discretizando o intervalo\n",
    "    x = np.linspace(0, l, n+2)\n",
    "    xi = x[1:-1]\n",
    "    \n",
    "    h2 = h**2\n",
    "    \n",
    "    #Cria matriz\n",
    "    a = -2 * np.ones((n+1,))\n",
    "    a[0] = -1\n",
    "    b = c = np.ones((n+1,))\n",
    "    A = np.diag(a) + np.diag(b[1:], -1) + np.diag(c[:-1], 1)\n",
    "\n",
    "    F = h2 * np.ones((n+1,)) * f(xi)\n",
    "    F[0] = del0 * h\n",
    "    F[-1] -= beta * c[-1]\n",
    "    \n",
    "    y = np.zeros((n+2,))\n",
    "    y[-1] = beta\n",
    "    \n",
    "    #Montando e resolvendo o sistema linear\n",
    "    y[0:-1] = np.linalg.solve(A, F)\n",
    "    return y, x"
   ]
  },
  {
   "cell_type": "code",
   "execution_count": 7,
   "metadata": {},
   "outputs": [],
   "source": [
    "l = 1\n",
    "del0 = 3\n",
    "beta = 6\n",
    "f = lambda x: 2\n",
    "exata = lambda x: x**2 + 3*x + 2"
   ]
  },
  {
   "cell_type": "markdown",
   "metadata": {},
   "source": [
    "## • (Prático) Construa um gráfico com a solução exata e a numérica para m = 6."
   ]
  },
  {
   "cell_type": "code",
   "execution_count": 8,
   "metadata": {},
   "outputs": [
    {
     "name": "stdout",
     "output_type": "stream",
     "text": [
      "h = 0.16666666666666666\n"
     ]
    },
    {
     "data": {
      "image/png": "[encoded data removed]",
      "text/plain": [
       "<Figure size 432x288 with 1 Axes>"
      ]
     },
     "metadata": {
      "needs_background": "light"
     },
     "output_type": "display_data"
    }
   ],
   "source": [
    "m = 6 #numero de incógnitas\n",
    "n = m + 1 #numero de pontos\n",
    "N = m #numero de sub espaços\n",
    "h = (b-a)/N #tamanho do espaçamento\n",
    "\n",
    "y, x = PVF2(l, del0, beta, f, h)\n",
    "\n",
    "plt.plot(x, y, label = 'numérica (m = 6)')\n",
    "plt.plot(x, exata(x), '--', label = 'exata')\n",
    "plt.legend()\n",
    "print('h =', h)"
   ]
  },
  {
   "cell_type": "markdown",
   "metadata": {},
   "source": [
    "## O que você observou?\n",
    "### R: Observa-se que, a solução numérica se aproxima da solução exada para valores próximos do ponto 1. Porém, quando é analisada a solução para o outro extremo (x = 0), existe uma diferença dessa solução com a solução exata, isso se deve ao fato de que foi feito uma aproximação numérica para y'(0) e, com isso, obtemos uma equação utilizada no sistema linear para y0, que, nesse caso de PVC, se tornou uma incógnita. Dessa forma, para x próximo de 1 o erro diminuí, uma vez que sabemos o valor da função nesse ponto. Porém, para x próximo de 0, que sabemos apenas a derivada nesse ponto, o erro não se aproxima de zero, já que foi feito uma aproximação para a função nesse ponto.  "
   ]
  },
  {
   "cell_type": "markdown",
   "metadata": {},
   "source": [
    "## • (Prático) Construa um gráfico, usando escala log-log, o máximo do erro (entre a solução exata e a numérica) como função do m, variando m = 6, 12, 24."
   ]
  },
  {
   "cell_type": "code",
   "execution_count": 9,
   "metadata": {},
   "outputs": [
    {
     "name": "stdout",
     "output_type": "stream",
     "text": [
      "(m = 6) h = 0.16666666666666666\n",
      "(m = 12) h = 0.08333333333333333\n",
      "(m = 24) h = 0.041666666666666664\n"
     ]
    },
    {
     "data": {
      "image/png": "[encoded data removed]",
      "text/plain": [
       "<Figure size 432x288 with 1 Axes>"
      ]
     },
     "metadata": {
      "needs_background": "light"
     },
     "output_type": "display_data"
    }
   ],
   "source": [
    "m = 6\n",
    "N = m\n",
    "h = (b-a)/N\n",
    "y, x = PVF2(l, del0, beta, f, h)\n",
    "merr6 = max(np.abs(exata(x)-y))\n",
    "print('(m = 6) h =', h)\n",
    "\n",
    "m = 12\n",
    "N = m\n",
    "h = (b-a)/N\n",
    "y, x = PVF2(l, del0, beta, f, h)\n",
    "merr12 = max(np.abs(exata(x)-y))\n",
    "print('(m = 12) h =', h)\n",
    "\n",
    "m = 24\n",
    "N = m\n",
    "h = (b-a)/N\n",
    "y, x = PVF2(l, del0, beta, f, h)\n",
    "merr24 = max(np.abs(exata(x)-y))\n",
    "print('(m = 24) h =', h)\n",
    "\n",
    "plt.plot([6, 12, 24], [merr6, merr12, merr24], 'o-')\n",
    "plt.xlabel('m')\n",
    "plt.ylabel('max(abs(erro))')\n",
    "#plt.yscale('log')\n",
    "#plt.xscale('log')\n",
    "plt.grid()"
   ]
  },
  {
   "cell_type": "markdown",
   "metadata": {},
   "source": [
    "## Explique seus resultados.\n",
    "### R: A respeito da mudança do m, observa-se que quando aumentamos m, ou seja, diminuímos o h, o máximo do erro diminui. Isso está relacionado com a consistência do método, uma vez que quando h -> 0,  erro de trucamento local -> 0, dessa forma, o máximo do erro também -> 0."
   ]
  }
 ],
 "metadata": {
  "kernelspec": {
   "display_name": "Python 3",
   "language": "python",
   "name": "python3"
  },
  "language_info": {
   "codemirror_mode": {
    "name": "ipython",
    "version": 3
   },
   "file_extension": ".py",
   "mimetype": "text/x-python",
   "name": "python",
   "nbconvert_exporter": "python",
   "pygments_lexer": "ipython3",
   "version": "3.7.3"
  }
 },
 "nbformat": 4,
 "nbformat_minor": 2
}
