{
 "cells": [
  {
   "cell_type": "code",
   "execution_count": 1,
   "metadata": {},
   "outputs": [],
   "source": [
    "import numpy as np\n",
    "import scipy.integrate as quad\n",
    "import scipy.special as roots"
   ]
  },
  {
   "cell_type": "markdown",
   "metadata": {},
   "source": [
    "# 1- Utilize o método fixed_quad() no pacote scipy.integrate para calcular a integral das seguintes funções:"
   ]
  },
  {
   "cell_type": "markdown",
   "metadata": {},
   "source": [
    "### a) x^5 - 2x^2 + 3, x in [0, 1] (encontre o valor exato)"
   ]
  },
  {
   "cell_type": "code",
   "execution_count": 2,
   "metadata": {},
   "outputs": [
    {
     "data": {
      "text/plain": [
       "(2.4999999999999996, None)"
      ]
     },
     "execution_count": 2,
     "metadata": {},
     "output_type": "execute_result"
    }
   ],
   "source": [
    "def a(x):\n",
    "    return x**5 - 2*(x)**2 + 3\n",
    "\n",
    "#Valor exato: 5<=2n+1, n=2\n",
    "quad.fixed_quad(a, 0, 1, n = 3) # n é o N da teoria (número de pontos exigidos na quadratura)"
   ]
  },
  {
   "cell_type": "markdown",
   "metadata": {},
   "source": [
    "### b) sin(x)/sqrt(1- x^2), x in [-1, 1]"
   ]
  },
  {
   "cell_type": "code",
   "execution_count": 3,
   "metadata": {},
   "outputs": [
    {
     "data": {
      "text/plain": [
       "(0.0, None)"
      ]
     },
     "execution_count": 3,
     "metadata": {},
     "output_type": "execute_result"
    }
   ],
   "source": [
    "def b(x):\n",
    "    return np.sin(x) / np.sqrt(1 - x**2)\n",
    "\n",
    "quad.fixed_quad(b, -1, 1, n = 2) # n é o N da teoria"
   ]
  },
  {
   "cell_type": "markdown",
   "metadata": {},
   "source": [
    "### c) e^(-x)cos(x), x in [0, pi/2]"
   ]
  },
  {
   "cell_type": "code",
   "execution_count": 4,
   "metadata": {},
   "outputs": [
    {
     "data": {
      "text/plain": [
       "(0.6069313777831418, None)"
      ]
     },
     "execution_count": 4,
     "metadata": {},
     "output_type": "execute_result"
    }
   ],
   "source": [
    "def c(x):\n",
    "    return np.exp(-x) * np.cos(x)\n",
    "\n",
    "quad.fixed_quad(c, 0, np.pi/2, n = 2) # n é o N da teoria"
   ]
  },
  {
   "cell_type": "markdown",
   "metadata": {},
   "source": [
    "### d) x/sqrt(1+ sin(x)), x in [0, pi]"
   ]
  },
  {
   "cell_type": "code",
   "execution_count": 5,
   "metadata": {},
   "outputs": [
    {
     "data": {
      "text/plain": [
       "(3.9132943179742106, None)"
      ]
     },
     "execution_count": 5,
     "metadata": {},
     "output_type": "execute_result"
    }
   ],
   "source": [
    "def d(x):\n",
    "    return x / np.sqrt(1 + np.sin(x))\n",
    "\n",
    "quad.fixed_quad(d, 0, np.pi, n = 3)   # n é o N da teoria"
   ]
  },
  {
   "cell_type": "markdown",
   "metadata": {},
   "source": [
    "# 2- Implemente um método para calcular a fórmula de Gauss-Laguerre. O método deve aproximar a integral de funções da forma e^(-x) * f(x) no intervalo [a, inf] onde a é um escalar qualquer. A função deve receber a função f(x), o escalar a e o número de nós da quadratura n. Para obter os nós (x_0,x_1, etc) utilize o método roots_laguerre() do pacote scipy.special.\n",
    "### OBS: Seu código deve fazer a mudança de variável corretamente para se adaptar ao intervalo da fórmula."
   ]
  },
  {
   "cell_type": "code",
   "execution_count": 6,
   "metadata": {},
   "outputs": [],
   "source": [
    "def gauss_Laguerre(f, a, n):\n",
    "    x, A = roots.roots_laguerre(n)\n",
    "    soma = 0\n",
    "    for i in range(n):\n",
    "        soma += f(x[i] + a)*A[i]\n",
    "    return(np.exp(-a)*soma)"
   ]
  },
  {
   "cell_type": "markdown",
   "metadata": {},
   "source": [
    "# 3) Teste seu código do exercício anterior para integrar:"
   ]
  },
  {
   "cell_type": "markdown",
   "metadata": {},
   "source": [
    "### a) e^(-x) cos(x), x in [0, inf]"
   ]
  },
  {
   "cell_type": "code",
   "execution_count": 16,
   "metadata": {},
   "outputs": [
    {
     "data": {
      "text/plain": [
       "0.4765208386696323"
      ]
     },
     "execution_count": 16,
     "metadata": {},
     "output_type": "execute_result"
    }
   ],
   "source": [
    "def f(x):\n",
    "    return np.cos(x)\n",
    "\n",
    "gauss_Laguerre(f, 0, n = 3) # n é o N da teoria"
   ]
  },
  {
   "cell_type": "markdown",
   "metadata": {},
   "source": [
    "### b) e^(-x) x^2, 1 in [pi, inf] (encontre o valor exato)"
   ]
  },
  {
   "cell_type": "code",
   "execution_count": 8,
   "metadata": {},
   "outputs": [
    {
     "data": {
      "text/plain": [
       "0.7844531707125806"
      ]
     },
     "execution_count": 8,
     "metadata": {},
     "output_type": "execute_result"
    }
   ],
   "source": [
    "def f(x):\n",
    "    return x**2\n",
    "\n",
    "#Valor exato: 2<=2n+1, n=1\n",
    "gauss_Laguerre(f, np.pi, n = 2) # n é o N da teoria"
   ]
  },
  {
   "cell_type": "markdown",
   "metadata": {},
   "source": [
    "### c) e^(-x) sin(x^2)/ tanh(x), x in [-5, inf]"
   ]
  },
  {
   "cell_type": "code",
   "execution_count": 13,
   "metadata": {},
   "outputs": [
    {
     "data": {
      "text/plain": [
       "13.338424138471291"
      ]
     },
     "execution_count": 13,
     "metadata": {},
     "output_type": "execute_result"
    }
   ],
   "source": [
    "def f(x):\n",
    "    return np.sin((x)**2) / np.tanh(x)\n",
    "\n",
    "gauss_Laguerre(f, -5, n = 50)            # n é o N da teoria"
   ]
  }
 ],
 "metadata": {
  "kernelspec": {
   "display_name": "Python 3",
   "language": "python",
   "name": "python3"
  },
  "language_info": {
   "codemirror_mode": {
    "name": "ipython",
    "version": 3
   },
   "file_extension": ".py",
   "mimetype": "text/x-python",
   "name": "python",
   "nbconvert_exporter": "python",
   "pygments_lexer": "ipython3",
   "version": "3.7.3"
  }
 },
 "nbformat": 4,
 "nbformat_minor": 2
}
