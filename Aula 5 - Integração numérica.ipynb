{
 "cells": [
  {
   "cell_type": "code",
   "execution_count": 1,
   "metadata": {},
   "outputs": [],
   "source": [
    "import numpy as np\n",
    "import matplotlib.pyplot as plt\n",
    "\n",
    "%matplotlib inline"
   ]
  },
  {
   "cell_type": "code",
   "execution_count": 2,
   "metadata": {},
   "outputs": [],
   "source": [
    "#Fórmulas básicas\n",
    "def ponto_medio(func, a, b):\n",
    "    m = (a+b)/2\n",
    "    return (b-a) * func(m)\n",
    "\n",
    "def trapezio(func, a, b):\n",
    "    return (func(a) + func(b)) * (b-a)/2"
   ]
  },
  {
   "cell_type": "code",
   "execution_count": 24,
   "metadata": {},
   "outputs": [],
   "source": [
    "def plot_vis(func, a, b, n, m = 1):\n",
    "    intervalo = np.linspace(a, b, m+1)\n",
    "    \n",
    "    for i in range(m):\n",
    "        a = intervalo[i]\n",
    "        b = intervalo[i+1]\n",
    "        if n == 0:\n",
    "            x = [(b+a)/2]\n",
    "        else:\n",
    "            x = np.linspace(a, b, n+1)\n",
    "        \n",
    "        p = np.polyfit(x, func(x), n)\n",
    "        \n",
    "        pts = np.linspace(a, b, 100)\n",
    "        \n",
    "        plt.fill_between(pts, 0, np.polyval(p, pts), color = 'r', alpha = 0.5)\n",
    "        plt.fill_between(pts, 0, func(pts), color = 'g', alpha = 0.5)\n",
    "        plt.legend(['Aproximação', 'Exata'])"
   ]
  },
  {
   "cell_type": "code",
   "execution_count": 3,
   "metadata": {},
   "outputs": [
    {
     "name": "stdout",
     "output_type": "stream",
     "text": [
      "1.718281828459045\n",
      "1.6487212707001282\n",
      "1.8591409142295225\n"
     ]
    }
   ],
   "source": [
    "def f(x):\n",
    "    return np.exp(x)\n",
    "#Solução exata (integral de f de 0 a 1): e - 1\n",
    "\n",
    "print(np.exp(1) - 1)\n",
    "print(ponto_medio(f, 0, 1))\n",
    "print(trapezio(f, 0, 1))"
   ]
  },
  {
   "cell_type": "code",
   "execution_count": 26,
   "metadata": {},
   "outputs": [
    {
     "data": {
      "image/png": "[encoded data removed]",
      "text/plain": [
       "<Figure size 432x288 with 1 Axes>"
      ]
     },
     "metadata": {
      "needs_background": "light"
     },
     "output_type": "display_data"
    }
   ],
   "source": [
    "def f(x):\n",
    "    return np.exp(x)\n",
    "#Solução exata (integral de f de 0 a 1): e - 1\n",
    "\n",
    "plot_vis(f, 0, 1, 0)"
   ]
  },
  {
   "cell_type": "code",
   "execution_count": 13,
   "metadata": {},
   "outputs": [],
   "source": [
    "def ponto_medio_comp(func, a, b, m):\n",
    "    h = (b-a)/m\n",
    "    soma = 0\n",
    "    x0 = a\n",
    "    for i in range(m):\n",
    "        x1 = x0 + h\n",
    "        xm = (x0 + x1)/2\n",
    "        soma += func(xm)\n",
    "        x0 += h\n",
    "    return soma * h\n",
    "\n",
    "def trapezio_comp(func, a, b, m):\n",
    "    h = (b-a)/m\n",
    "    soma = 0\n",
    "    x0 = a\n",
    "    for i in range(m):\n",
    "        x1 = x0 + h\n",
    "        soma += func(x0) + func(x1) #todos os termos vão aparecer das vezes, exceto o primeiro e o último\n",
    "        x0 += h\n",
    "    return soma * h/2\n",
    "\n",
    "def trapezio_comp2(func, a, b, m):\n",
    "    h = (b-a)/m\n",
    "    soma = 0\n",
    "    for i in range(1, m): #desconsiderando o primeiro e o último ponto\n",
    "        soma += func(a + i*h) \n",
    "    return h/2 * (func(a) + 2 * soma + func(b))"
   ]
  },
  {
   "cell_type": "code",
   "execution_count": 25,
   "metadata": {},
   "outputs": [
    {
     "name": "stdout",
     "output_type": "stream",
     "text": [
      "1.718281828459045\n",
      "1.717163664995687\n",
      "1.7205185921643018\n"
     ]
    },
    {
     "data": {
      "image/png": "[encoded data removed]",
      "text/plain": [
       "<Figure size 432x288 with 1 Axes>"
      ]
     },
     "metadata": {
      "needs_background": "light"
     },
     "output_type": "display_data"
    }
   ],
   "source": [
    "print(np.exp(1) - 1)\n",
    "m = 8\n",
    "print(ponto_medio_comp(f, 0, 1, m))\n",
    "print(trapezio_comp(f, 0, 1, m))\n",
    "\n",
    "plot_vis(f, 0, 1, 1, m)"
   ]
  },
  {
   "cell_type": "code",
   "execution_count": null,
   "metadata": {},
   "outputs": [],
   "source": []
  }
 ],
 "metadata": {
  "kernelspec": {
   "display_name": "Python 3",
   "language": "python",
   "name": "python3"
  },
  "language_info": {
   "codemirror_mode": {
    "name": "ipython",
    "version": 3
   },
   "file_extension": ".py",
   "mimetype": "text/x-python",
   "name": "python",
   "nbconvert_exporter": "python",
   "pygments_lexer": "ipython3",
   "version": "3.7.3"
  }
 },
 "nbformat": 4,
 "nbformat_minor": 2
}
