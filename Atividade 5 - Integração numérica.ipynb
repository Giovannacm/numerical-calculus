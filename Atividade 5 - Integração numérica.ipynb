{
 "cells": [
  {
   "cell_type": "code",
   "execution_count": 1,
   "metadata": {},
   "outputs": [],
   "source": [
    "import numpy as np\n",
    "import matplotlib.pyplot as plt\n",
    "\n",
    "%matplotlib inline"
   ]
  },
  {
   "cell_type": "markdown",
   "metadata": {},
   "source": [
    "## 1)Compare a solução exata com o resultado obtido pelas fórmulas do ponto médio composto e trapézio composto (m = 2,4,8,10) ao integrar"
   ]
  },
  {
   "cell_type": "code",
   "execution_count": 2,
   "metadata": {},
   "outputs": [],
   "source": [
    "def ponto_medio_comp(func, a, b, m):\n",
    "    h = (b-a)/m\n",
    "    soma = 0\n",
    "    x0 = a\n",
    "    for i in range(m):\n",
    "        x1 = x0 + h\n",
    "        xm = (x0 + x1)/2\n",
    "        soma += func(xm)\n",
    "        x0 += h\n",
    "    return soma * h\n",
    "\n",
    "def trapezio_comp(func, a, b, m):\n",
    "    h = (b-a)/m\n",
    "    soma = 0\n",
    "    x0 = a\n",
    "    for i in range(m):\n",
    "        x1 = x0 + h\n",
    "        soma += func(x0) + func(x1)      #todos os termos vão aparecer duas vezes, exceto o primeiro e o último\n",
    "        x0 += h\n",
    "    return soma * h/2"
   ]
  },
  {
   "cell_type": "markdown",
   "metadata": {},
   "source": [
    "### a) xe^(-x^2), no intervalo [0,1]"
   ]
  },
  {
   "cell_type": "code",
   "execution_count": 3,
   "metadata": {},
   "outputs": [
    {
     "name": "stdout",
     "output_type": "stream",
     "text": [
      "\n",
      " m = 2\n",
      "Exata:  0.31606027941427883\n",
      "Ptm_c:  0.3310951921257806\n",
      "Trp_c:  0.28667005606071183\n",
      "\n",
      " m = 4\n",
      "Exata:  0.31606027941427883\n",
      "Ptm_c:  0.3196691610481555\n",
      "Trp_c:  0.3088826240932462\n",
      "\n",
      " m = 8\n",
      "Exata:  0.31606027941427883\n",
      "Ptm_c:  0.316953709135506\n",
      "Trp_c:  0.3142758925707008\n",
      "\n",
      " m = 10\n",
      "Exata:  0.31606027941427883\n",
      "Ptm_c:  0.31663140843957915\n",
      "Trp_c:  0.3149190324901454\n"
     ]
    }
   ],
   "source": [
    "def f(x):\n",
    "    return x*np.exp(-x**2)\n",
    "\n",
    "mv = [2, 4, 8, 10]\n",
    "for m in mv:\n",
    "    print(\"\\n m =\", m)\n",
    "    print('Exata: ',(np.exp(1) - 1)/(2 * np.exp(1)))\n",
    "    print('Ptm_c: ',ponto_medio_comp(f, 0, 1, m))\n",
    "    print('Trp_c: ',trapezio_comp(f, 0, 1, m))"
   ]
  },
  {
   "cell_type": "markdown",
   "metadata": {},
   "source": [
    "### b) x + sin(x), no intervalo [0, pi] "
   ]
  },
  {
   "cell_type": "code",
   "execution_count": 4,
   "metadata": {},
   "outputs": [
    {
     "name": "stdout",
     "output_type": "stream",
     "text": [
      "\n",
      " m = 2\n",
      "Exata:  6.934802200544679\n",
      "Ptm_c:  7.156243669623862\n",
      "Trp_c:  6.5055985273395756\n",
      "\n",
      " m = 4\n",
      "Exata:  6.934802200544679\n",
      "Ptm_c:  6.987146506498741\n",
      "Trp_c:  6.830921098481718\n",
      "\n",
      " m = 8\n",
      "Exata:  6.934802200544679\n",
      "Ptm_c:  6.947711286143807\n",
      "Trp_c:  6.909033802490229\n",
      "\n",
      " m = 10\n",
      "Exata:  6.934802200544679\n",
      "Ptm_c:  6.943050608452652\n",
      "Trp_c:  6.918325738054134\n"
     ]
    }
   ],
   "source": [
    "def g(x):\n",
    "    return x + np.sin(x)\n",
    "\n",
    "mv = [2, 4, 8, 10]\n",
    "for m in mv:\n",
    "    print(\"\\n m =\", m)\n",
    "    print('Exata: ',(4 + np.pi**2)/2)\n",
    "    print('Ptm_c: ',ponto_medio_comp(g, 0, np.pi, m))\n",
    "    print('Trp_c: ',trapezio_comp(g, 0, np.pi, m))"
   ]
  },
  {
   "cell_type": "markdown",
   "metadata": {},
   "source": [
    "## 2)Implemente o método de Simpson (deduzido no exercício teórico) e sua formula composta e repita os passos do exercício 1 utilizando essa fórmula."
   ]
  },
  {
   "cell_type": "code",
   "execution_count": 5,
   "metadata": {},
   "outputs": [],
   "source": [
    "def simpson(func, a, b):\n",
    "    return (func(a) + 4*func((a+b)/2) + func(b)) * (b-a)/6\n",
    "\n",
    "def simpson_comp(func, a, b, m):\n",
    "    h = (b-a)/m\n",
    "    soma = 0\n",
    "    x0 = a\n",
    "    for i in range(1, m+1):\n",
    "        x1 = x0 + h/2\n",
    "        x2 = x0 + h\n",
    "        soma += func(x0) + 4*func(x1) + func(x2)\n",
    "        x0 += h\n",
    "    return soma * h/6"
   ]
  },
  {
   "cell_type": "markdown",
   "metadata": {},
   "source": [
    "### a) xe^(-x^2), no intervalo [0,1] "
   ]
  },
  {
   "cell_type": "code",
   "execution_count": 6,
   "metadata": {},
   "outputs": [
    {
     "name": "stdout",
     "output_type": "stream",
     "text": [
      "Exata:  0.31606027941427883\n",
      "Sim_s:  0.320913501219042\n",
      "\n",
      " m = 2\n",
      "Exata:  0.31606027941427883\n",
      "Ptm_c:  0.3310951921257806\n",
      "Trp_c:  0.28667005606071183\n",
      "Sim_c:  0.3162868134374243\n",
      "\n",
      " m = 4\n",
      "Exata:  0.31606027941427883\n",
      "Ptm_c:  0.3196691610481555\n",
      "Trp_c:  0.3088826240932462\n",
      "Sim_c:  0.3160736487298524\n",
      "\n",
      " m = 8\n",
      "Exata:  0.31606027941427883\n",
      "Ptm_c:  0.316953709135506\n",
      "Trp_c:  0.3142758925707008\n",
      "Sim_c:  0.3160611036139043\n",
      "\n",
      " m = 10\n",
      "Exata:  0.31606027941427883\n",
      "Ptm_c:  0.31663140843957915\n",
      "Trp_c:  0.3149190324901454\n",
      "Sim_c:  0.31606061645643463\n"
     ]
    }
   ],
   "source": [
    "def f(x):\n",
    "    return x*np.exp(-x**2)\n",
    "\n",
    "print('Exata: ',(np.exp(1) - 1)/(2 * np.exp(1)))\n",
    "print('Sim_s: ',simpson(f, 0, 1))\n",
    "\n",
    "mv = [2, 4, 8, 10]\n",
    "for m in mv:\n",
    "    print(\"\\n m =\", m)\n",
    "    print('Exata: ',(np.exp(1) - 1)/(2 * np.exp(1)))\n",
    "    print('Ptm_c: ',ponto_medio_comp(f, 0, 1, m))\n",
    "    print('Trp_c: ',trapezio_comp(f, 0, 1, m))\n",
    "    print('Sim_c: ',simpson_comp(f, 0, 1, m))"
   ]
  },
  {
   "cell_type": "markdown",
   "metadata": {},
   "source": [
    "### b) x + sin(x), no intervalo [0, pi]"
   ]
  },
  {
   "cell_type": "code",
   "execution_count": 7,
   "metadata": {},
   "outputs": [
    {
     "name": "stdout",
     "output_type": "stream",
     "text": [
      "Exata:  6.934802200544679\n",
      "Sim_s:  7.029197302937874\n",
      "\n",
      " m = 2\n",
      "Exata:  6.934802200544679\n",
      "Ptm_c:  7.156243669623862\n",
      "Trp_c:  6.5055985273395756\n",
      "Sim_c:  6.9393619555291\n",
      "\n",
      " m = 4\n",
      "Exata:  6.934802200544679\n",
      "Ptm_c:  6.987146506498741\n",
      "Trp_c:  6.830921098481718\n",
      "Sim_c:  6.935071370493066\n",
      "\n",
      " m = 8\n",
      "Exata:  6.934802200544679\n",
      "Ptm_c:  6.947711286143807\n",
      "Trp_c:  6.909033802490229\n",
      "Sim_c:  6.9348187915926145\n",
      "\n",
      " m = 10\n",
      "Exata:  6.934802200544679\n",
      "Ptm_c:  6.943050608452652\n",
      "Trp_c:  6.918325738054134\n",
      "Sim_c:  6.934808984986481\n"
     ]
    }
   ],
   "source": [
    "def g(x):\n",
    "    return x + np.sin(x)\n",
    "\n",
    "print('Exata: ',(4 + np.pi**2)/2)\n",
    "print('Sim_s: ',simpson(g, 0, np.pi))\n",
    "\n",
    "mv = [2, 4, 8, 10]\n",
    "for m in mv:\n",
    "    print(\"\\n m =\", m)\n",
    "    print('Exata: ',(4 + np.pi**2)/2)\n",
    "    print('Ptm_c: ',ponto_medio_comp(g, 0, np.pi, m))\n",
    "    print('Trp_c: ',trapezio_comp(g, 0, np.pi, m))\n",
    "    print('Sim_c: ',simpson_comp(g, 0, np.pi, m))"
   ]
  }
 ],
 "metadata": {
  "kernelspec": {
   "display_name": "Python 3",
   "language": "python",
   "name": "python3"
  },
  "language_info": {
   "codemirror_mode": {
    "name": "ipython",
    "version": 3
   },
   "file_extension": ".py",
   "mimetype": "text/x-python",
   "name": "python",
   "nbconvert_exporter": "python",
   "pygments_lexer": "ipython3",
   "version": "3.7.3"
  }
 },
 "nbformat": 4,
 "nbformat_minor": 2
}
