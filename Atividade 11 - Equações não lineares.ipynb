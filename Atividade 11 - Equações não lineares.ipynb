{
 "cells": [
  {
   "cell_type": "code",
   "execution_count": 1,
   "metadata": {},
   "outputs": [],
   "source": [
    "import numpy as np\n",
    "import matplotlib.pyplot as plt"
   ]
  },
  {
   "cell_type": "markdown",
   "metadata": {},
   "source": [
    "# ------\n",
    "# Questão 0: Utilize o algoritmo do método da Bissecção, com tolerância 0.000001, para resolver os seguintes casos:"
   ]
  },
  {
   "cell_type": "code",
   "execution_count": 2,
   "metadata": {},
   "outputs": [],
   "source": [
    "def bissec(f, a, b, tol = 1e-6, maxIt = 50):\n",
    "    fa = f(a)\n",
    "    fb = f(b)\n",
    "    \n",
    "    if(np.abs(fa) <= tol):\n",
    "        return a, 0\n",
    "    if(np.abs(fb) <= tol):\n",
    "        return b, 0\n",
    "    if(fa*fb > 0):\n",
    "        print(\"Intervalo é inválido\")\n",
    "        return 0, -1\n",
    "    \n",
    "    for it in range(maxIt):\n",
    "        x = (a + b)/2\n",
    "        fx = f(x)\n",
    "        \n",
    "        if(np.abs(fx) <= tol):\n",
    "            return x, it+1\n",
    "        \n",
    "        if(fa*fx < 0):\n",
    "            b = x\n",
    "            fb = fx\n",
    "        else: #fb*fx < 0\n",
    "            a = x\n",
    "            fa = fx\n",
    "    \n",
    "    print(\"O método não convergiu nas iterações, ou seja, não atingiu a tolerância\")\n",
    "    return x, maxIt"
   ]
  },
  {
   "cell_type": "markdown",
   "metadata": {},
   "source": [
    "## x - 2^(-x) = 0, considerando o intervalo 0<=x<=1 "
   ]
  },
  {
   "cell_type": "code",
   "execution_count": 3,
   "metadata": {},
   "outputs": [
    {
     "name": "stdout",
     "output_type": "stream",
     "text": [
      ">  0.6411857604980469 2.3100954371635396e-08 18\n"
     ]
    }
   ],
   "source": [
    "f = lambda x: x - 2**(-x)\n",
    "x, it = bissec(f, 0, 1)\n",
    "print('> ', x, f(x), it)"
   ]
  },
  {
   "cell_type": "markdown",
   "metadata": {},
   "source": [
    "## exp(x) - x² + 3x - 2 = 0, considerando o intervalo 0<=x<=1 "
   ]
  },
  {
   "cell_type": "code",
   "execution_count": 4,
   "metadata": {},
   "outputs": [
    {
     "name": "stdout",
     "output_type": "stream",
     "text": [
      ">  0.25753021240234375 -2.759847070876731e-07 17\n"
     ]
    }
   ],
   "source": [
    "f = lambda x: np.exp(x) - x**2 + 3*x - 2\n",
    "x, it = bissec(f, 0, 1)\n",
    "print('> ', x, f(x), it)"
   ]
  },
  {
   "cell_type": "markdown",
   "metadata": {},
   "source": [
    "## 2xcos(2x) - (x+1)² = 0, considerando os intervalos -3<=x<=-2, -1<=x<=0 "
   ]
  },
  {
   "cell_type": "code",
   "execution_count": 5,
   "metadata": {},
   "outputs": [
    {
     "name": "stdout",
     "output_type": "stream",
     "text": [
      ">  -2.19130802154541 -9.775346199170087e-08 20\n",
      ">  -0.7981600761413574 4.1836280610663135e-07 21\n"
     ]
    }
   ],
   "source": [
    "f = lambda x: 2*x*np.cos(2*x) - (x + 1)**2\n",
    "x, it = bissec(f, -3, -2)\n",
    "print('> ', x, f(x), it)\n",
    "x, it = bissec(f, -1, 0)\n",
    "print('> ', x, f(x), it)"
   ]
  },
  {
   "cell_type": "markdown",
   "metadata": {},
   "source": [
    "## xcos(x) - 2x² + 3x - 1 = 0, considerando os intervalos 0.2<=x<=0.3, 1.2<=x<=1.3 "
   ]
  },
  {
   "cell_type": "code",
   "execution_count": 6,
   "metadata": {},
   "outputs": [
    {
     "name": "stdout",
     "output_type": "stream",
     "text": [
      ">  0.29753036499023444 3.517655073892456e-07 17\n",
      ">  1.2566230773925782 7.139104405418095e-07 17\n"
     ]
    }
   ],
   "source": [
    "f = lambda x: x*np.cos(x) - 2*x**2 + 3*x - 1\n",
    "x, it = bissec(f, 0.2, 0.3)\n",
    "print('> ', x, f(x), it)\n",
    "x, it = bissec(f, 1.2, 1.3)\n",
    "print('> ', x, f(x), it)"
   ]
  },
  {
   "cell_type": "markdown",
   "metadata": {},
   "source": [
    "# ------\n",
    "# Questão 1: Utilize o algoritmo do método de Newton, com tolerância 0.000001, para resolver os seguintes casos:"
   ]
  },
  {
   "cell_type": "code",
   "execution_count": 7,
   "metadata": {},
   "outputs": [],
   "source": [
    "def metNewt(f, df, x0, tol = 1e-6, maxIt = 50):\n",
    "    for it in range(maxIt):\n",
    "        fx = f(x0)\n",
    "        if(np.abs(fx) <= tol):\n",
    "            return x0, it\n",
    "        \n",
    "        if(df(x0) == 0):\n",
    "            print(\"A derivada zerou\")\n",
    "            return x, it\n",
    "        \n",
    "        x0 = x0 - f(x0)/df(x0)\n",
    "    \n",
    "    print(\"O método não atingiu a tolerância!\")\n",
    "    return x0, maxIt"
   ]
  },
  {
   "cell_type": "code",
   "execution_count": 8,
   "metadata": {},
   "outputs": [],
   "source": [
    "result = [] #Vetor para armazenar os resultados e plotar na Questão 3"
   ]
  },
  {
   "cell_type": "markdown",
   "metadata": {},
   "source": [
    "## exp(x) + 2^(-x) + 2cos(x) - 6 = 0, considerando o intervalo 1<=x<=2"
   ]
  },
  {
   "cell_type": "code",
   "execution_count": 9,
   "metadata": {},
   "outputs": [
    {
     "name": "stdout",
     "output_type": "stream",
     "text": [
      ">  1.829383602512459 2.3731692166961693e-09 7\n"
     ]
    }
   ],
   "source": [
    "f = lambda x: np.exp(x) + 2**(-x) + 2*np.cos(x) - 6\n",
    "df = lambda x: np.exp(x) - 2**(-x)*np.log(2) - 2*np.sin(x)\n",
    "\n",
    "x, it = metNewt(f, df, 1)\n",
    "print('> ', x, f(x), it)\n",
    "result.append(x)"
   ]
  },
  {
   "cell_type": "markdown",
   "metadata": {},
   "source": [
    "## ln(x-1) + cos(x-1) = 0, considerando o intervalo 1.3<=x<=2"
   ]
  },
  {
   "cell_type": "code",
   "execution_count": 10,
   "metadata": {},
   "outputs": [
    {
     "name": "stdout",
     "output_type": "stream",
     "text": [
      ">  1.3977481644736214 -6.624694446344392e-07 3\n"
     ]
    }
   ],
   "source": [
    "f = lambda x: np.log(x - 1) + np.cos(x - 1)\n",
    "df = lambda x: 1/(x - 1) - np.sin(x - 1)\n",
    "\n",
    "x, it = metNewt(f, df, 1.3)\n",
    "print('> ', x, f(x), it)\n",
    "result.append(x)"
   ]
  },
  {
   "cell_type": "markdown",
   "metadata": {},
   "source": [
    "## 2xcos(2x) - (x-2)² = 0, considerando os intervalos 2<=x<=3, 3<=x<=4"
   ]
  },
  {
   "cell_type": "code",
   "execution_count": 11,
   "metadata": {},
   "outputs": [
    {
     "name": "stdout",
     "output_type": "stream",
     "text": [
      ">  2.3706869176622676 5.2513549064769904e-14 4\n",
      ">  2.3706870165845224 8.70056168222888e-07 5\n",
      ">  3.7221127731388566 -6.043472389194449e-10 10\n"
     ]
    }
   ],
   "source": [
    "f = lambda x: 2*x*np.cos(2*x) - (x - 2)**2\n",
    "df = lambda x: 2*np.cos(2*x) - 4*x*np.sin(2*x) - 2*(x - 2)\n",
    "\n",
    "x, it = metNewt(f, df, 2)\n",
    "print('> ', x, f(x), it)\n",
    "result.append(x)\n",
    "x, it = metNewt(f, df, 3)\n",
    "print('> ', x, f(x), it)\n",
    "\n",
    "x, it = metNewt(f, df, 3.001)\n",
    "print('> ', x, f(x), it)\n",
    "result.append(x)"
   ]
  },
  {
   "cell_type": "markdown",
   "metadata": {},
   "source": [
    "## sin(x) - exp(-x) = 0, considerando os intervalos 0<=x<=1, 3<=x<=4, 6<=x<=7"
   ]
  },
  {
   "cell_type": "code",
   "execution_count": 12,
   "metadata": {},
   "outputs": [
    {
     "name": "stdout",
     "output_type": "stream",
     "text": [
      ">  0.5885327439774188 -6.160960630552381e-12 4\n",
      ">  3.0963639608966513 -2.7168927836662693e-08 2\n",
      ">  6.285049004142744 -2.6974122881509577e-07 2\n"
     ]
    }
   ],
   "source": [
    "f = lambda x: np.sin(x) - np.exp(-x)\n",
    "df = lambda x: np.cos(x) + np.exp(-x)\n",
    "\n",
    "x, it = metNewt(f, df, 0)\n",
    "print('> ', x, f(x), it)\n",
    "result.append(x)\n",
    "x, it = metNewt(f, df, 3)\n",
    "print('> ', x, f(x), it)\n",
    "result.append(x)\n",
    "x, it = metNewt(f, df, 6)\n",
    "print('> ', x, f(x), it)\n",
    "result.append(x)"
   ]
  },
  {
   "attachments": {
    "image.png": {
     "image/png": "[encoded data removed]"
    }
   },
   "cell_type": "markdown",
   "metadata": {},
   "source": [
    "# ------\n",
    "# Questão 2: Uma forma de evitar o uso do cálculo da derivada da função f(x) no algoritmo do método de Newton é substituir o valor da derivada por uma aproximação. Ou seja, no lugar de calcular a cada passo o termo f'(x^(k)) podemos usar:\n",
    "![image.png](attachment:image.png)\n",
    "# Esse método é conhecido como método da secante.\n",
    "# • Utilize o método da secante para resolver os mesmos exercícios do item anterior, com a mesma tolerância. Observe que você deve escolher dois chutes iniciais! Para cada caso, compare o número de iterações do método de Newton e o da secante."
   ]
  },
  {
   "cell_type": "code",
   "execution_count": 13,
   "metadata": {},
   "outputs": [],
   "source": [
    "def metSec(f, xAnt, x0, tol = 1e-6, maxIt = 50):\n",
    "    for it in range(maxIt):\n",
    "        fx = f(x0)\n",
    "        if(np.abs(fx) <= tol):\n",
    "            return x0, it\n",
    "        \n",
    "        #Aproximando o valor da derivada\n",
    "        dfx0 = (f(x0) - f(xAnt))/(x0 - xAnt)\n",
    "        if(dfx0 == 0):\n",
    "            print(\"A derivada zerou\")\n",
    "            return x, it\n",
    "        \n",
    "        x = x0\n",
    "        x0 = x0 - f(x0)/dfx0\n",
    "    \n",
    "    print(\"O método não atingiu a tolerância!\")\n",
    "    return x0, maxIt"
   ]
  },
  {
   "cell_type": "markdown",
   "metadata": {},
   "source": [
    "## exp(x) + 2^(-x) + 2cos(x) - 6 = 0, considerando o intervalo 1<=x<=2"
   ]
  },
  {
   "cell_type": "code",
   "execution_count": 28,
   "metadata": {},
   "outputs": [
    {
     "name": "stdout",
     "output_type": "stream",
     "text": [
      ">  1.8293834294825584 -7.073088301723374e-07 42\n"
     ]
    }
   ],
   "source": [
    "f = lambda x: np.exp(x) + 2**(-x) + 2*np.cos(x) - 6\n",
    "df = lambda x: np.exp(x) - 2**(-x)*np.log(2) - 2*np.sin(x)\n",
    "\n",
    "x, it = metSec(f, 1.2, 1.3)\n",
    "print('> ', x, f(x), it)"
   ]
  },
  {
   "cell_type": "code",
   "execution_count": 15,
   "metadata": {},
   "outputs": [],
   "source": [
    "# O método de Newton utilizou 7 iterações para obter o resultado da equação"
   ]
  },
  {
   "cell_type": "markdown",
   "metadata": {},
   "source": [
    "## ln(x-1) + cos(x-1) = 0, considerando o intervalo 1.3<=x<=2"
   ]
  },
  {
   "cell_type": "code",
   "execution_count": 16,
   "metadata": {
    "scrolled": true
   },
   "outputs": [
    {
     "name": "stdout",
     "output_type": "stream",
     "text": [
      ">  1.3977482001017572 -5.866951604538428e-07 7\n"
     ]
    }
   ],
   "source": [
    "f = lambda x: np.log(x - 1) + np.cos(x - 1)\n",
    "df = lambda x: 1/(x - 1) - np.sin(x - 1)\n",
    "\n",
    "x, it = metSec(f, 1.3, 1.31)\n",
    "print('> ', x, f(x), it)"
   ]
  },
  {
   "cell_type": "code",
   "execution_count": 17,
   "metadata": {},
   "outputs": [],
   "source": [
    "# O método de Newton utilizou 3 iterações para obter o resultado da equação"
   ]
  },
  {
   "cell_type": "markdown",
   "metadata": {},
   "source": [
    "## 2xcos(2x) - (x-2)² = 0, considerando os intervalos 2<=x<=3, 3<=x<=4"
   ]
  },
  {
   "cell_type": "code",
   "execution_count": 18,
   "metadata": {},
   "outputs": [
    {
     "name": "stdout",
     "output_type": "stream",
     "text": [
      ">  2.370686995098252 6.810768372333964e-07 11\n",
      ">  2.370686894515888 -2.0358050981106324e-07 12\n",
      ">  3.7221128300150053 -9.27879550971511e-07 23\n"
     ]
    }
   ],
   "source": [
    "f = lambda x: 2*x*np.cos(2*x) - (x - 2)**2\n",
    "df = lambda x: 2*np.cos(2*x) - 4*x*np.sin(2*x) - 2*(x - 2)\n",
    "\n",
    "x, it = metSec(f, 2, 2.1)\n",
    "print('> ', x, f(x), it)\n",
    "x, it = metSec(f, 3, 3.1)\n",
    "print('> ', x, f(x), it)\n",
    "\n",
    "x, it = metSec(f, 3.3, 3.4)\n",
    "print('> ', x, f(x), it)"
   ]
  },
  {
   "cell_type": "code",
   "execution_count": 19,
   "metadata": {},
   "outputs": [],
   "source": [
    "# O método de Newton utilizou respectivamente 4, 5 e 10 iterações para obter o resultado da equação"
   ]
  },
  {
   "cell_type": "markdown",
   "metadata": {},
   "source": [
    "## sin(x) - exp(-x) = 0, considerando os intervalos 0<=x<=1, 3<=x<=4, 6<=x<=7"
   ]
  },
  {
   "cell_type": "code",
   "execution_count": 20,
   "metadata": {},
   "outputs": [
    {
     "name": "stdout",
     "output_type": "stream",
     "text": [
      ">  0.5885322269626375 -7.170527293043349e-07 8\n",
      ">  3.096364075287336 -1.362706516030987e-07 2\n",
      ">  6.28504996483996 6.927450236272632e-07 3\n"
     ]
    }
   ],
   "source": [
    "f = lambda x: np.sin(x) - np.exp(-x)\n",
    "df = lambda x: np.cos(x) + np.exp(-x)\n",
    "\n",
    "x, it = metSec(f, 0, 0.1)\n",
    "print('> ', x, f(x), it)\n",
    "x, it = metSec(f, 3, 3.1)\n",
    "print('> ', x, f(x), it)\n",
    "x, it = metSec(f, 6, 6.1)\n",
    "print('> ', x, f(x), it)"
   ]
  },
  {
   "cell_type": "code",
   "execution_count": 21,
   "metadata": {},
   "outputs": [],
   "source": [
    "# O método de Newton utilizou respectivamente 4, 2 e 2 iterações para obter o resultado da equação"
   ]
  },
  {
   "cell_type": "code",
   "execution_count": 22,
   "metadata": {},
   "outputs": [],
   "source": [
    "# Dessa forma, observa-se que o método de Newton utiliza menos iterações que o método da secante. Isso se deve ao fato de que, para o método de Newton, é necessário saber a derivada exata. Já no método da secante, esse valor é calculado via aproximação."
   ]
  },
  {
   "cell_type": "markdown",
   "metadata": {},
   "source": [
    "# Questão 3: Esse exercício deve ser feito apenas após o termino dos anteriores. Utilize os comandos do Octave de construir gráficos, e faça os plots das funções do exercício 1, de acordo com intervalo dado."
   ]
  },
  {
   "cell_type": "code",
   "execution_count": 23,
   "metadata": {},
   "outputs": [
    {
     "data": {
      "image/png": "[encoded data removed]",
      "text/plain": [
       "<Figure size 432x288 with 1 Axes>"
      ]
     },
     "metadata": {
      "needs_background": "light"
     },
     "output_type": "display_data"
    }
   ],
   "source": [
    "f = lambda x: np.exp(x) + 2**(-x) + 2*np.cos(x) - 6\n",
    "x = np.linspace(1, 2, 1000)\n",
    "plt.plot(x, f(x), 'r-')\n",
    "plt.plot(result[0], f(result[0]), 'bo')\n",
    "plt.grid()"
   ]
  },
  {
   "cell_type": "code",
   "execution_count": 24,
   "metadata": {},
   "outputs": [
    {
     "data": {
      "image/png": "[encoded data removed]",
      "text/plain": [
       "<Figure size 432x288 with 1 Axes>"
      ]
     },
     "metadata": {
      "needs_background": "light"
     },
     "output_type": "display_data"
    }
   ],
   "source": [
    "f = lambda x: np.log(x - 1) + np.cos(x - 1)\n",
    "x = np.linspace(1.3, 2, 1000)\n",
    "plt.plot(x, f(x), 'r-')\n",
    "plt.plot(result[1], f(result[1]), 'bo')\n",
    "plt.grid()"
   ]
  },
  {
   "cell_type": "code",
   "execution_count": 25,
   "metadata": {},
   "outputs": [
    {
     "data": {
      "image/png": "[encoded data removed]",
      "text/plain": [
       "<Figure size 432x288 with 1 Axes>"
      ]
     },
     "metadata": {
      "needs_background": "light"
     },
     "output_type": "display_data"
    }
   ],
   "source": [
    "f = lambda x: 2*x*np.cos(2*x) - (x - 2)**2\n",
    "x = np.linspace(2, 4, 1000)\n",
    "plt.plot(x, f(x), 'r-')\n",
    "plt.plot(result[2], f(result[2]), 'bo')\n",
    "plt.plot(result[3], f(result[3]), 'bo')\n",
    "plt.grid()"
   ]
  },
  {
   "cell_type": "code",
   "execution_count": 26,
   "metadata": {},
   "outputs": [
    {
     "data": {
      "image/png": "[encoded data removed]",
      "text/plain": [
       "<Figure size 432x288 with 1 Axes>"
      ]
     },
     "metadata": {
      "needs_background": "light"
     },
     "output_type": "display_data"
    }
   ],
   "source": [
    "f = lambda x: np.sin(x) - np.exp(-x)\n",
    "x = np.linspace(0, 7, 1000)\n",
    "plt.plot(x, f(x), 'r-')\n",
    "plt.plot(result[4], f(result[4]), 'bo')\n",
    "plt.plot(result[5], f(result[5]), 'bo')\n",
    "plt.plot(result[6], f(result[6]), 'bo')\n",
    "plt.grid()"
   ]
  }
 ],
 "metadata": {
  "kernelspec": {
   "display_name": "Python 3",
   "language": "python",
   "name": "python3"
  },
  "language_info": {
   "codemirror_mode": {
    "name": "ipython",
    "version": 3
   },
   "file_extension": ".py",
   "mimetype": "text/x-python",
   "name": "python",
   "nbconvert_exporter": "python",
   "pygments_lexer": "ipython3",
   "version": "3.7.3"
  }
 },
 "nbformat": 4,
 "nbformat_minor": 2
}
