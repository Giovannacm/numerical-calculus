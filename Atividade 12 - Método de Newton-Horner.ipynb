{
 "cells": [
  {
   "cell_type": "code",
   "execution_count": 2,
   "metadata": {},
   "outputs": [],
   "source": [
    "import numpy as np\n",
    "import matplotlib.pyplot as plt\n",
    "\n",
    "%matplotlib inline"
   ]
  },
  {
   "attachments": {
    "image.png": {
     "image/png": "[encoded data removed]"
    }
   },
   "cell_type": "markdown",
   "metadata": {},
   "source": [
    "# ![image.png](attachment:image.png)"
   ]
  },
  {
   "cell_type": "code",
   "execution_count": 3,
   "metadata": {},
   "outputs": [],
   "source": [
    "def horner(p, x): #p armazena os coeficientes do polinômio, x é o valor que queremos avaliar -> p(x)\n",
    "    n = p.flatten().shape[0] #Grau do polinômio -> quantidade de coeficientes\n",
    "    b = np.zeros(n) #b irá armazenar o polinômio associado e a solução de p(x)\n",
    "    \n",
    "    b[0] = p[0]\n",
    "    \n",
    "    for i in range(1, n):\n",
    "        b[i] = p[i] + b[i-1] * x\n",
    "        \n",
    "    px = b[-1]\n",
    "    qx = b[:-1]\n",
    "    return px, qx"
   ]
  },
  {
   "cell_type": "markdown",
   "metadata": {},
   "source": [
    "##  1. Implemente o método de Newton para polinômios newtonPol(). Ele deve receber como entrada o vetor com os coeficientes do polinômio p, um chute inicial x^(0), uma tolerância máxima para o erro tol e um número máximo de iterações maxIt. Ele deve usar o algoritmo de Horner para calcular o valor de p(x^(k)) e p'(x^(k)) (através do polinômio associado)."
   ]
  },
  {
   "attachments": {
    "image.png": {
     "image/png": "[encoded data removed]"
    }
   },
   "cell_type": "markdown",
   "metadata": {},
   "source": [
    "# ![image.png](attachment:image.png)"
   ]
  },
  {
   "cell_type": "code",
   "execution_count": 3,
   "metadata": {},
   "outputs": [],
   "source": [
    "def newtonPol(coeff, x0, tol = 1e-3, maxIt = 50):\n",
    "    for it in range(maxIt):\n",
    "        fx, qx = horner(coeff, x0) #utilizando o método de Horner para calcular o valor de f(x0) (é utilizado o vetor de coeficientes de f e o ponto x0)\n",
    "        if(np.abs(fx) <= tol):\n",
    "            return x0, it\n",
    "\n",
    "        df, qx = horner(qx, x0) #utilizando o método de Horner para calcular a derivada df(x0) (é utilizado o  vetor de coeficientes do polinômio associado e o ponto x0)\n",
    "            \n",
    "        if(df == 0):\n",
    "            print(\"A derivada zerou\")\n",
    "            return x, it\n",
    "        \n",
    "        x0 = x0 - fx/df\n",
    "    \n",
    "    print(\"O método não atingiu a tolerância!\")\n",
    "    return x0, maxIt"
   ]
  },
  {
   "cell_type": "code",
   "execution_count": 4,
   "metadata": {},
   "outputs": [
    {
     "name": "stdout",
     "output_type": "stream",
     "text": [
      ">  -0.453467173827973 3\n"
     ]
    }
   ],
   "source": [
    "#Testando a implementação\n",
    "#x³ + 0x² + 2x + 1  ->  3x² + 0x + 2\n",
    "x, it = newtonPol(np.array([1, 0, 2, 1]), -1)\n",
    "print('> ', x, it)"
   ]
  },
  {
   "cell_type": "markdown",
   "metadata": {},
   "source": [
    "## 2. Implemente o método Newton-Horner para encontrar todos os zeros de um polinômio.Ele deve receber como entrada o vetor com os coeficientes do polinômio p, um chute inicial x^(0), uma tolerância máxima para o erro tol e um número máximo de iterações maxIt. Seu código deve utilizar o método do exercício anterior para calcular cada raiz e obter o próximo polinômio de grau cada vez menor."
   ]
  },
  {
   "cell_type": "code",
   "execution_count": 5,
   "metadata": {},
   "outputs": [],
   "source": [
    "def newtonHorner(coeff, x0, tol = 1e-3, maxIt = 50):\n",
    "    n = len(coeff) - 1\n",
    "    raizes = np.zeros(n)  #vetor para armazenar as raizes\n",
    "    iteracoes = np.zeros(n) #vetor para armazenar as iteracoes necessárias para encontrar cada raiz\n",
    "    \n",
    "    for k in range(n): #iterando sobre cada raiz\n",
    "        nIter = 0\n",
    "        x = x0\n",
    "        \n",
    "        x, nIter = newtonPol(coeff, x0, tol, maxIt) #Utilizando o método do exercício anterior para calcular cada raiz\n",
    "        px, coeff = horner(coeff, x) #obtendo o próximo polinômio de grau cada vez menor\n",
    "        \n",
    "        raizes[k] = x #armazenando a raiz no vetor de raizes\n",
    "        iteracoes[k] = nIter #armazenando a quantidade de iterações no vetor de iterações\n",
    "\n",
    "    return raizes, iteracoes"
   ]
  },
  {
   "cell_type": "markdown",
   "metadata": {},
   "source": [
    "## 3. Utilize o método de Newton-Horner para encontrar as raízes de:"
   ]
  },
  {
   "cell_type": "markdown",
   "metadata": {},
   "source": [
    "### (a) f(x) = x^4 − 10x³ + 35x² − 50x + 24"
   ]
  },
  {
   "cell_type": "code",
   "execution_count": 6,
   "metadata": {},
   "outputs": [
    {
     "name": "stdout",
     "output_type": "stream",
     "text": [
      "Raizes:  [0.99996008 2.00011657 2.99978631 4.00013704]\n",
      "Iterações:  [5. 6. 5. 1.]\n"
     ]
    }
   ],
   "source": [
    "rf, itf = newtonHorner(np.array([1, -10, 35, -50, 24]), 0)\n",
    "print('Raizes: ', rf)\n",
    "print('Iterações: ', itf)"
   ]
  },
  {
   "cell_type": "markdown",
   "metadata": {},
   "source": [
    "### (b) g(x) = x^10 − 17x^9 − 19x^8 + 1981x^7 − 11758x^6 − 14564x^5 + 362056x^4 − 1249920x³ + 1411200x²"
   ]
  },
  {
   "cell_type": "code",
   "execution_count": 7,
   "metadata": {},
   "outputs": [
    {
     "name": "stdout",
     "output_type": "stream",
     "text": [
      "Raizes:  [-1.00000000e+01 -6.00000000e+00 -1.19867671e-04  1.19884027e-04\n",
      "  3.99559654e+00  4.00442561e+00  5.00000113e+00  5.99989165e+00\n",
      "  6.98359849e+00  7.01648656e+00]\n",
      "Iterações:  [ 6. 10. 24. 13. 21. 14. 13. 11. 10.  1.]\n"
     ]
    }
   ],
   "source": [
    "rg, itg = newtonHorner(np.array([1, -17, -19, 1981, -11758, -14564, 362056, -1249920, 1411200, 0, 0]), -11)\n",
    "print('Raizes: ', rg)\n",
    "print('Iterações: ', itg)"
   ]
  },
  {
   "cell_type": "markdown",
   "metadata": {},
   "source": [
    "### (c) h(x) = x^4 − πx³ − x² + πx"
   ]
  },
  {
   "cell_type": "code",
   "execution_count": 8,
   "metadata": {},
   "outputs": [
    {
     "name": "stdout",
     "output_type": "stream",
     "text": [
      "Raizes:  [-1.00001932e+00  5.07276115e-05  9.99576494e-01  3.14198476e+00]\n",
      "Iterações:  [5. 6. 4. 1.]\n"
     ]
    }
   ],
   "source": [
    "rh, ith = newtonHorner(np.array([1, -np.pi, -1, np.pi, 0]), -2)\n",
    "print('Raizes: ', rh)\n",
    "print('Iterações: ', ith)"
   ]
  }
 ],
 "metadata": {
  "kernelspec": {
   "display_name": "Python 3",
   "language": "python",
   "name": "python3"
  },
  "language_info": {
   "codemirror_mode": {
    "name": "ipython",
    "version": 3
   },
   "file_extension": ".py",
   "mimetype": "text/x-python",
   "name": "python",
   "nbconvert_exporter": "python",
   "pygments_lexer": "ipython3",
   "version": "3.7.3"
  }
 },
 "nbformat": 4,
 "nbformat_minor": 2
}
