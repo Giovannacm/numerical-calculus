{
 "cells": [
  {
   "cell_type": "code",
   "execution_count": 1,
   "metadata": {},
   "outputs": [],
   "source": [
    "import numpy as np\n",
    "import matplotlib.pyplot as plt\n",
    "\n",
    "%matplotlib inline"
   ]
  },
  {
   "cell_type": "code",
   "execution_count": 2,
   "metadata": {},
   "outputs": [],
   "source": [
    "def horner(p, x):\n",
    "    n = p.flatten().shape[0] #Grau do polinômio\n",
    "    b = np.zeros(n)\n",
    "    \n",
    "    b[0] = p[0]\n",
    "    for i in range(1, n):\n",
    "        b[i] = p[i] + b[i-1] * x\n",
    "    px = b[-1]\n",
    "    # qx é b[:-1]\n",
    "    # b = b[:-1]\n",
    "    return px, b"
   ]
  },
  {
   "cell_type": "code",
   "execution_count": 3,
   "metadata": {},
   "outputs": [
    {
     "name": "stdout",
     "output_type": "stream",
     "text": [
      "4.0 [1. 3. 4.]\n"
     ]
    }
   ],
   "source": [
    "# x² + 2x + 1\n",
    "p = np.array([1, 2, 1]) #armazenando os coeficientes do menor para o maior\n",
    "px, b = horner(p, 1)\n",
    "\n",
    "print(px, b)"
   ]
  },
  {
   "cell_type": "code",
   "execution_count": 4,
   "metadata": {},
   "outputs": [],
   "source": [
    "# p(x) = 4 + (x-1)q(x;1)"
   ]
  }
 ],
 "metadata": {
  "kernelspec": {
   "display_name": "Python 3",
   "language": "python",
   "name": "python3"
  },
  "language_info": {
   "codemirror_mode": {
    "name": "ipython",
    "version": 3
   },
   "file_extension": ".py",
   "mimetype": "text/x-python",
   "name": "python",
   "nbconvert_exporter": "python",
   "pygments_lexer": "ipython3",
   "version": "3.7.3"
  }
 },
 "nbformat": 4,
 "nbformat_minor": 2
}
