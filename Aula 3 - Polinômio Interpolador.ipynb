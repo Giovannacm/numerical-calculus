{
 "cells": [
  {
   "cell_type": "markdown",
   "metadata": {},
   "source": [
    "### Uso de uma biblioteca do Python que possui uma função que retorna os coeficientes do polinômio para um conjunto de dados.\n",
    "#### Pego os dados do dia 19 a 29/03 (Italia) será criado uma tabela e a partir dela será aplicado a função para encontrar o polinômio interpolador.\n",
    "#### polyfit: usado para aproximação (MMQ) e polinomio interpolador\n",
    "\n",
    "### np.polyfit: função que retorna os coeficientes do polinômio interpolador, de acordo com o grau (retorna os coeficientes que acompanham x de maior grau -> menor grau)\n",
    "\n",
    "### np.polyval: função que retorna os valores avaliados nos pontos (avalia o polinomio nesses pontos)"
   ]
  },
  {
   "cell_type": "code",
   "execution_count": 1,
   "metadata": {},
   "outputs": [],
   "source": [
    "import numpy as np\n",
    "import matplotlib.pyplot as plt\n",
    "\n",
    "#para plotar os gráficos na saida da celula de maneira estática\n",
    "%matplotlib inline"
   ]
  },
  {
   "cell_type": "code",
   "execution_count": 2,
   "metadata": {},
   "outputs": [],
   "source": [
    "dias = np.arange(0,11) #indice dos dias\n",
    "casos = np.array([6000, 6600, 5600, 4800, 5300, 5100, 6200 ,5900, 6100, 5200, 4000]) #numero de casos para cada dia"
   ]
  },
  {
   "cell_type": "code",
   "execution_count": 3,
   "metadata": {},
   "outputs": [
    {
     "name": "stdout",
     "output_type": "stream",
     "text": [
      "[ 7.28339947e-02 -3.63109017e+00  7.75595238e+01 -9.27386740e+02\n",
      "  6.80276563e+03 -3.15223987e+04  9.14012310e+04 -1.57770909e+05\n",
      "  1.44118371e+05 -5.15756746e+04  6.00000000e+03]\n"
     ]
    }
   ],
   "source": [
    "#No minimos quadrados buscamos o menor erro para todos os pontos\n",
    "#No polinomio interpolador, o valor do polinomio deve ser exato nos pontos escolhidos\n",
    "\n",
    "#Escolhas dos nós de interpolação\n",
    "i2 = [0, 5, 10] #indices dos dias dos pontos escolhidos\n",
    "d2 = dias[i2]\n",
    "c2 = casos[i2]\n",
    "\n",
    "i3 = [0, 3, 6, 10] #escolhendo outros pontos (a escolha dos pontos influencia no comportamento do grafio)\n",
    "d3 = dias[i3]\n",
    "c3 = casos[i3]\n",
    "\n",
    "i6 = [0, 2, 4, 5, 6, 8, 10] #escolhendo outros pontos para um polinomio de grau 6\n",
    "d6 = dias[i6]\n",
    "c6 = casos[i6]\n",
    "\n",
    "#Interpolacao\n",
    "coef2 = np.polyfit(d2, c2, 2) #3 pontos -> polinomio de grau 2\n",
    "coef3 = np.polyfit(d3, c3, 3)\n",
    "coef6 = np.polyfit(d6, c6, 6)\n",
    "coef10 = np.polyfit(dias, casos, 10) #escolhendo todos os pontos (para ver o que vai dar)\n",
    "print(coef10)\n",
    "\n",
    "pts = np.linspace(0, 10, 100) #100 pontos de 0 a 10"
   ]
  },
  {
   "cell_type": "code",
   "execution_count": 7,
   "metadata": {},
   "outputs": [
    {
     "data": {
      "text/plain": [
       "[<matplotlib.lines.Line2D at 0x210398836d8>]"
      ]
     },
     "execution_count": 7,
     "metadata": {},
     "output_type": "execute_result"
    },
    {
     "data": {
      "image/png": "[encoded data removed]",
      "text/plain": [
       "<Figure size 432x288 with 1 Axes>"
      ]
     },
     "metadata": {
      "needs_background": "light"
     },
     "output_type": "display_data"
    }
   ],
   "source": [
    "plt.plot(dias, casos, 'o')\n",
    "plt.plot(d6, c6, 'ro') #em vermlho os pontos considerados para o polonomio\n",
    "plt.plot(pts, np.polyval(coef6, pts), 'g')"
   ]
  },
  {
   "cell_type": "code",
   "execution_count": null,
   "metadata": {},
   "outputs": [],
   "source": []
  }
 ],
 "metadata": {
  "kernelspec": {
   "display_name": "Python 3",
   "language": "python",
   "name": "python3"
  },
  "language_info": {
   "codemirror_mode": {
    "name": "ipython",
    "version": 3
   },
   "file_extension": ".py",
   "mimetype": "text/x-python",
   "name": "python",
   "nbconvert_exporter": "python",
   "pygments_lexer": "ipython3",
   "version": "3.7.3"
  }
 },
 "nbformat": 4,
 "nbformat_minor": 2
}
