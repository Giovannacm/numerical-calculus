{
 "cells": [
  {
   "cell_type": "code",
   "execution_count": 4,
   "metadata": {},
   "outputs": [],
   "source": [
    "import numpy as np\n",
    "import matplotlib.pyplot as plt"
   ]
  },
  {
   "cell_type": "markdown",
   "metadata": {},
   "source": [
    "## Metodo dos minimos quadrados com matrizes"
   ]
  },
  {
   "cell_type": "code",
   "execution_count": 5,
   "metadata": {},
   "outputs": [],
   "source": [
    "def mmq2(A, b):\n",
    "    B = A.T.dot(A)  #calculando a multiplicação de A(transposta) com A\n",
    "    y = A.T.dot(b)\n",
    "    \n",
    "    print(B,y)\n",
    "\n",
    "    #determinando x resolvendo como sistema linear A^(T)*A*x = A^(T)*b\n",
    "    x1 = np.linalg.solve(B, y) #o primeiro parâmetro (B, no caso) é a matriz de coeficientes e o seguindo (y, no caso) é a matriz independente\n",
    "\n",
    "    #determinando x resolvendo como conta de matriz x=B^(-1)*A^(T)*b\n",
    "    x2 = np.linalg.inv(B).dot(A.T).dot(b)\n",
    "    \n",
    "    print(x1, x2)\n",
    "\n",
    "    return x1, x2"
   ]
  },
  {
   "cell_type": "code",
   "execution_count": 6,
   "metadata": {},
   "outputs": [
    {
     "name": "stdout",
     "output_type": "stream",
     "text": [
      "[[40 30 10]\n",
      " [30 79 47]\n",
      " [10 47 55]] [ 18   5 -21]\n",
      "[ 0.34722617  0.39900427 -0.7859175 ] [ 0.34722617  0.39900427 -0.7859175 ]\n"
     ]
    }
   ],
   "source": [
    "A = np.array([[1, 0, 1],[2, 3, 5], [5, 3, -2], [3, 5, 4], [-1, 6, 3]])\n",
    "b = np.array([4, -2, 5, -2, 1])\n",
    "x1, x2 = mmq2(A, b)"
   ]
  },
  {
   "cell_type": "markdown",
   "metadata": {},
   "source": [
    "## Metodo dos minimos quadrados para normalização/apoximação de dados"
   ]
  },
  {
   "cell_type": "code",
   "execution_count": 7,
   "metadata": {},
   "outputs": [],
   "source": [
    "def mmq(A, b):\n",
    "    B = A.T.dot(A)   #calculando a multiplicação de A(transposta) com A\n",
    "    y = A.T.dot(b)\n",
    "    \n",
    "    print(B,y)\n",
    "\n",
    "    x = np.linalg.solve(B, y)\n",
    "    return x"
   ]
  },
  {
   "cell_type": "code",
   "execution_count": 8,
   "metadata": {},
   "outputs": [],
   "source": [
    "def aprox_dados(t, b, n = 2):\n",
    "    #criar a matriz A\n",
    "    m = t.shape[0]\n",
    "    A = np.ones([m, n])\n",
    "    t = t.reshape([m])\n",
    "    for i in range(1,n):\n",
    "        A[:,i] =np.multiply(A[:,i-1], t)  #multiplica a coluna anterior por t\n",
    "    x = mmq(A, b)\n",
    "    return x"
   ]
  },
  {
   "cell_type": "code",
   "execution_count": 13,
   "metadata": {},
   "outputs": [
    {
     "name": "stdout",
     "output_type": "stream",
     "text": [
      "[ 0.62541361  2.4254043   2.62912474  3.22893482  5.2289487   5.92199599\n",
      "  7.3179589   7.7676255   9.35143241  9.43470896 11.57905217]\n"
     ]
    }
   ],
   "source": [
    "t = np.linspace(0,10,11) #ponto inicial, final e espaçamento (abcissa 11 elementos de 0 a 10)\n",
    "b = np.linspace(0,10,11) # ordenada (11 elemtos com uma perturbação)\n",
    "p = np.random.rand(11)*2 #criando uma perturbação\n",
    "b = b+p\n",
    "print(b)"
   ]
  },
  {
   "cell_type": "code",
   "execution_count": 10,
   "metadata": {},
   "outputs": [
    {
     "data": {
      "text/plain": [
       "[<matplotlib.lines.Line2D at 0x1901954cac8>]"
      ]
     },
     "execution_count": 10,
     "metadata": {},
     "output_type": "execute_result"
    },
    {
     "data": {
      "image/png": "[encoded data removed]",
      "text/plain": [
       "<Figure size 432x288 with 1 Axes>"
      ]
     },
     "metadata": {
      "needs_background": "light"
     },
     "output_type": "display_data"
    }
   ],
   "source": [
    "plt.plot(t, b, 'x')"
   ]
  },
  {
   "cell_type": "code",
   "execution_count": 11,
   "metadata": {},
   "outputs": [
    {
     "name": "stdout",
     "output_type": "stream",
     "text": [
      "[[ 11.  55.]\n",
      " [ 55. 385.]] [ 64.66327174 430.17150699]\n",
      "[1.02142705 0.97141044]\n"
     ]
    }
   ],
   "source": [
    "x = aprox_dados(t, b) #b = 1(x1) + t(x2)\n",
    "print(x)"
   ]
  },
  {
   "cell_type": "code",
   "execution_count": null,
   "metadata": {},
   "outputs": [],
   "source": []
  }
 ],
 "metadata": {
  "kernelspec": {
   "display_name": "Python 3",
   "language": "python",
   "name": "python3"
  },
  "language_info": {
   "codemirror_mode": {
    "name": "ipython",
    "version": 3
   },
   "file_extension": ".py",
   "mimetype": "text/x-python",
   "name": "python",
   "nbconvert_exporter": "python",
   "pygments_lexer": "ipython3",
   "version": "3.7.3"
  }
 },
 "nbformat": 4,
 "nbformat_minor": 2
}
